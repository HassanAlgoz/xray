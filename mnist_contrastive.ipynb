{
 "cells": [
  {
   "cell_type": "code",
   "execution_count": 1,
   "metadata": {},
   "outputs": [
    {
     "name": "stderr",
     "output_type": "stream",
     "text": [
      "/home/hgoz/anaconda3/envs/06-image/lib/python3.10/site-packages/torchvision/io/image.py:13: UserWarning: Failed to load image Python extension: 'libc10_cuda.so: cannot open shared object file: No such file or directory'If you don't plan on using image functionality from `torchvision.io`, you can ignore this warning. Otherwise, there might be something wrong with your environment. Did you have `libjpeg` or `libpng` installed before building `torchvision` from source?\n",
      "  warn(\n"
     ]
    }
   ],
   "source": [
    "import random\n",
    "\n",
    "import torch\n",
    "import torch.nn as nn\n",
    "import torch.nn.functional as F\n",
    "from torch.utils.data import DataLoader\n",
    "import torch.optim as optim\n",
    "import torchvision\n",
    "import torchvision.transforms as transforms\n",
    "from torchvision.datasets import MNIST\n",
    "import matplotlib.pyplot as plt\n",
    "import numpy as np"
   ]
  },
  {
   "cell_type": "code",
   "execution_count": 2,
   "metadata": {},
   "outputs": [],
   "source": [
    "import torch_directml\n",
    "# select the GPU device if available\n",
    "if torch.cuda.is_available():\n",
    "    device = torch.device(\"cuda\")\n",
    "elif torch_directml.is_available():\n",
    "    device = torch_directml.device(torch_directml.default_device())\n",
    "else:\n",
    "    device = torch.device(\"cpu\")"
   ]
  },
  {
   "cell_type": "code",
   "execution_count": 3,
   "metadata": {},
   "outputs": [],
   "source": [
    "data_mean = 0.1307\n",
    "data_std = 0.3081\n",
    "transform = transforms.Compose([\n",
    "  torchvision.transforms.ToTensor(),\n",
    "  torchvision.transforms.Normalize((data_mean,), (data_std,))\n",
    "])"
   ]
  },
  {
   "cell_type": "code",
   "execution_count": 4,
   "metadata": {},
   "outputs": [],
   "source": [
    "class TripletMNIST(torch.utils.data.Dataset):\n",
    "\n",
    "  def __init__(self, data):\n",
    "    self.data = data\n",
    "\n",
    "  def __len__(self):\n",
    "    return len(self.data)\n",
    "\n",
    "  def __getitem__(self, index):  \n",
    "    anchor = self.data[index][0]\n",
    "    label = self.data[index][1]   \n",
    "\n",
    "    # Get positive sample \n",
    "    while True:     \n",
    "      x, y = self.data[random.randint(0, len(self.data) - 1)]\n",
    "      if y == label:\n",
    "        positive = x\n",
    "        break\n",
    "\n",
    "    # Get negative sample       \n",
    "    while True:\n",
    "        x, y = self.data[random.randint(0, len(self.data) - 1)]\n",
    "        if y != label:\n",
    "          negative = x\n",
    "          break\n",
    "\n",
    "    return anchor, positive, negative, label"
   ]
  },
  {
   "cell_type": "code",
   "execution_count": 5,
   "metadata": {},
   "outputs": [],
   "source": [
    "minst_train, mnist_valid = torch.utils.data.random_split(MNIST(root='data', train=True, download=True, transform=transform),\n",
    "                                                         [50_000, 10_000])\n",
    "trainset = TripletMNIST(minst_train)"
   ]
  },
  {
   "cell_type": "code",
   "execution_count": 6,
   "metadata": {},
   "outputs": [],
   "source": [
    "classes = (\n",
    "    'Zero',   \n",
    "    'One',    \n",
    "    'Two',   \n",
    "    'Three',  \n",
    "    'Four',    \n",
    "    'Five', \n",
    "    'Six',  \n",
    "    'Seven',  \n",
    "    'Eight',   \n",
    "    'Nine'  )"
   ]
  },
  {
   "cell_type": "code",
   "execution_count": 7,
   "metadata": {},
   "outputs": [
    {
     "name": "stderr",
     "output_type": "stream",
     "text": [
      "Clipping input data to the valid range for imshow with RGB data ([0..1] for floats or [0..255] for integers).\n"
     ]
    },
    {
     "name": "stdout",
     "output_type": "stream",
     "text": [
      "Label: 8\n"
     ]
    },
    {
     "data": {
      "image/png": "[encoded data removed]",
      "text/plain": [
       "<Figure size 640x480 with 1 Axes>"
      ]
     },
     "metadata": {},
     "output_type": "display_data"
    }
   ],
   "source": [
    "# functions to show an image\n",
    "def imshow(img):\n",
    "    img = img / 2 + 0.5     # unnormalize\n",
    "    npimg = img.numpy()\n",
    "    plt.imshow(np.transpose(npimg, (1, 2, 0)))\n",
    "    plt.show()\n",
    "\n",
    "# get some random training images\n",
    "anchor, positive, negative, label = trainset[1]\n",
    "\n",
    "# show images\n",
    "print('Label:', label)\n",
    "imshow(torchvision.utils.make_grid([anchor, positive, negative]))"
   ]
  },
  {
   "cell_type": "code",
   "execution_count": 8,
   "metadata": {},
   "outputs": [],
   "source": [
    "class PatchEmbed(nn.Module):\n",
    "    \"\"\" Image to Patch Embedding\n",
    "    \"\"\"\n",
    "    def __init__(self, img_size, patch_size, in_chans, embed_dim):\n",
    "        super(PatchEmbed, self).__init__()\n",
    "        self.proj = nn.Conv2d(in_chans, embed_dim, kernel_size=patch_size, stride=patch_size)\n",
    "\n",
    "    def forward(self, x):\n",
    "        # B, C, H, W = x.shape\n",
    "        x = self.proj(x).flatten(2).transpose(1, 2)\n",
    "        return x"
   ]
  },
  {
   "cell_type": "code",
   "execution_count": 9,
   "metadata": {},
   "outputs": [],
   "source": [
    "class Encoder(nn.Module):\n",
    "    def __init__(self, img_size, d_model, patch_size, nhead, num_layers):\n",
    "        super(Encoder, self).__init__()\n",
    "        self.embed = PatchEmbed(img_size*img_size, patch_size, 1, d_model)\n",
    "        self.encoder = nn.TransformerEncoder(\n",
    "            nn.TransformerEncoderLayer(d_model=d_model, nhead=nhead, dim_feedforward=d_model), num_layers=num_layers)\n",
    "        \n",
    "    def forward(self, x):\n",
    "        x = self.embed(x)\n",
    "        x = self.encoder(x)\n",
    "        return x.flatten(1)"
   ]
  },
  {
   "cell_type": "code",
   "execution_count": 10,
   "metadata": {},
   "outputs": [],
   "source": [
    "class Model(nn.Module):\n",
    "    def __init__(self, img_size, d_model, patch_size, nhead, num_layers, n_classes):\n",
    "        super(Model, self).__init__()\n",
    "        num_patches = (img_size // patch_size) * (img_size // patch_size)\n",
    "\n",
    "        self.encoder = Encoder(img_size, d_model, patch_size, nhead, num_layers)\n",
    "        self.classifier = nn.Linear(d_model * num_patches, n_classes)\n",
    "    \n",
    "    def forward(self, x):\n",
    "        s = self.encoder(x)\n",
    "        preds = self.classifier(s)\n",
    "        return s, preds"
   ]
  },
  {
   "cell_type": "code",
   "execution_count": 11,
   "metadata": {},
   "outputs": [],
   "source": [
    "criterion_triplet = nn.TripletMarginWithDistanceLoss(margin=1.0) \n",
    "criterion_class = nn.CrossEntropyLoss()"
   ]
  },
  {
   "cell_type": "code",
   "execution_count": 12,
   "metadata": {},
   "outputs": [],
   "source": [
    "def calc_accuracy(preds, labels):\n",
    "    num_correct = (preds == labels).float().sum().item()\n",
    "    return num_correct / preds.shape[0]\n"
   ]
  },
  {
   "cell_type": "code",
   "execution_count": 13,
   "metadata": {},
   "outputs": [
    {
     "data": {
      "text/plain": [
       "19658"
      ]
     },
     "execution_count": 13,
     "metadata": {},
     "output_type": "execute_result"
    }
   ],
   "source": [
    "MODEL_PATH = 'mnist_contrastive.pth'\n",
    "model = Model(img_size=28, d_model=32, patch_size=7, nhead=16, num_layers=2, n_classes=10)\n",
    "model.to(device)\n",
    "\n",
    "optimizer = optim.Adam(model.parameters(), lr=0.001)\n",
    "\n",
    "num_params = sum(p.numel() for p in model.parameters())\n",
    "num_params"
   ]
  },
  {
   "cell_type": "code",
   "execution_count": 14,
   "metadata": {},
   "outputs": [],
   "source": [
    "loss_avg = 0\n",
    "accuracies = []"
   ]
  },
  {
   "cell_type": "code",
   "execution_count": 15,
   "metadata": {},
   "outputs": [],
   "source": [
    "batch_size = 50\n",
    "trainset_loader = DataLoader(trainset, batch_size=batch_size, num_workers=4, shuffle=True)\n",
    "validset_loader = DataLoader(mnist_valid, batch_size=batch_size, num_workers=4, shuffle=True)"
   ]
  },
  {
   "cell_type": "code",
   "execution_count": 23,
   "metadata": {},
   "outputs": [
    {
     "name": "stderr",
     "output_type": "stream",
     "text": [
      "100%|██████████| 1000/1000 [01:28<00:00, 11.25it/s, loss=0.131]\n"
     ]
    },
    {
     "name": "stdout",
     "output_type": "stream",
     "text": [
      "Accuracy: 0.745\n"
     ]
    },
    {
     "name": "stderr",
     "output_type": "stream",
     "text": [
      "100%|██████████| 1000/1000 [01:31<00:00, 10.89it/s, loss=0.107]\n"
     ]
    },
    {
     "name": "stdout",
     "output_type": "stream",
     "text": [
      "Accuracy: 0.789\n"
     ]
    },
    {
     "name": "stderr",
     "output_type": "stream",
     "text": [
      "100%|██████████| 1000/1000 [01:31<00:00, 10.93it/s, loss=0.106]\n"
     ]
    },
    {
     "name": "stdout",
     "output_type": "stream",
     "text": [
      "Accuracy: 0.819\n"
     ]
    }
   ],
   "source": [
    "from tqdm import tqdm\n",
    "\n",
    "for epoch in range(3):\n",
    "    model.train()\n",
    "    tqdm_bar = tqdm(trainset_loader)\n",
    "    for data in tqdm_bar:\n",
    "        anchors = data[0].to(device)\n",
    "        positives = data[1].to(device)\n",
    "        negatives = data[2].to(device)\n",
    "        labels = data[3].to(device)\n",
    "    \n",
    "        embeddings, class_outputs = model(anchors)\n",
    "        pos_embeddings, _ = model(positives) \n",
    "        neg_embeddings, _ = model(negatives)  \n",
    "\n",
    "        # loss_triplet = criterion_triplet(embeddings, pos_embeddings, neg_embeddings)\n",
    "        loss_class = criterion_class(class_outputs, labels)\n",
    "\n",
    "        # loss = loss_triplet + loss_class\n",
    "        # loss = loss_triplet\n",
    "        loss = loss_class\n",
    "\n",
    "        loss_avg = 0.9 * loss_avg + 0.1 * loss.item() \n",
    "        tqdm_bar.set_postfix(loss=\"{:05.3f}\".format(loss_avg))\n",
    "\n",
    "        optimizer.zero_grad()   \n",
    "        loss.backward()     \n",
    "        optimizer.step()\n",
    "\n",
    "    # Evaluate on Validation Set\n",
    "    model.eval()\n",
    "    with torch.no_grad():\n",
    "        for data in validset_loader:\n",
    "            images = data[0].to(device)\n",
    "            labels = data[1].to(device)\n",
    "            _, outputs = model(images)\n",
    "            preds = outputs.argmax(dim=1)\n",
    "            accuracies.append(calc_accuracy(preds, labels))\n",
    "    avg_accuracy = sum(accuracies) / len(accuracies)\n",
    "    print(f\"Accuracy: {avg_accuracy:.3f}\")\n",
    "    torch.save(model.state_dict(), MODEL_PATH)"
   ]
  },
  {
   "cell_type": "code",
   "execution_count": 17,
   "metadata": {},
   "outputs": [],
   "source": [
    "# model.load_state_dict(torch.load(MODEL_PATH))\n",
    "# model.to(device)"
   ]
  },
  {
   "attachments": {},
   "cell_type": "markdown",
   "metadata": {},
   "source": [
    "1. The Model has been trained with just `loss_triplet` for `30` epochs\n",
    "2. Then it was trained with just `loss_Class` for `5` epochs"
   ]
  },
  {
   "cell_type": "code",
   "execution_count": 24,
   "metadata": {},
   "outputs": [],
   "source": [
    "batch_size = 10\n",
    "mnist_test = MNIST(root='data', train=False, download=True, transform=transform)\n",
    "testset = mnist_test\n",
    "testloader = DataLoader(testset, batch_size=batch_size, shuffle=False, num_workers=4)"
   ]
  },
  {
   "cell_type": "code",
   "execution_count": 25,
   "metadata": {},
   "outputs": [
    {
     "name": "stdout",
     "output_type": "stream",
     "text": [
      "Accuracy on test set: 0.971\n"
     ]
    }
   ],
   "source": [
    "accuracies = []\n",
    "model.eval()\n",
    "with torch.no_grad():\n",
    "    for data in validset_loader:\n",
    "        images = data[0].to(device)\n",
    "        labels = data[1].to(device)\n",
    "        _, outputs = model(images)\n",
    "        preds = outputs.argmax(dim=1)\n",
    "        accuracies.append(calc_accuracy(preds, labels))\n",
    "avg_accuracy = sum(accuracies) / len(accuracies)\n",
    "print(f\"Accuracy on test set: {avg_accuracy:.3f}\")"
   ]
  },
  {
   "cell_type": "code",
   "execution_count": 26,
   "metadata": {},
   "outputs": [
    {
     "name": "stdout",
     "output_type": "stream",
     "text": [
      "Accuracy for class: Zero  is 99.5 %\n",
      "Accuracy for class: One   is 99.2 %\n",
      "Accuracy for class: Two   is 97.4 %\n",
      "Accuracy for class: Three is 93.8 %\n",
      "Accuracy for class: Four  is 97.8 %\n",
      "Accuracy for class: Five  is 97.8 %\n",
      "Accuracy for class: Six   is 97.2 %\n",
      "Accuracy for class: Seven is 96.9 %\n",
      "Accuracy for class: Eight is 94.4 %\n",
      "Accuracy for class: Nine  is 95.0 %\n"
     ]
    }
   ],
   "source": [
    "# prepare to count predictions for each class\n",
    "correct_pred = {classname: 0 for classname in classes}\n",
    "total_pred = {classname: 0 for classname in classes}\n",
    "\n",
    "# again no gradients needed\n",
    "with torch.no_grad():\n",
    "    for data in testloader:\n",
    "        images = data[0].to(device)\n",
    "        labels = data[1].to(device)\n",
    "        _, outputs = model(images)\n",
    "        preds = outputs.argmax(dim=1)\n",
    "        accuracies.append(calc_accuracy(preds, labels))\n",
    "        # collect the correct predictions for each class\n",
    "        for label, prediction in zip(labels, preds):\n",
    "            if label == prediction:\n",
    "                correct_pred[classes[label]] += 1\n",
    "            total_pred[classes[label]] += 1\n",
    "\n",
    "\n",
    "# print accuracy for each class\n",
    "for classname, correct_count in correct_pred.items():\n",
    "    accuracy = 100 * float(correct_count) / total_pred[classname]\n",
    "    print(f'Accuracy for class: {classname:5s} is {accuracy:.1f} %')"
   ]
  }
 ],
 "metadata": {
  "kernelspec": {
   "display_name": "06-image",
   "language": "python",
   "name": "python3"
  },
  "language_info": {
   "codemirror_mode": {
    "name": "ipython",
    "version": 3
   },
   "file_extension": ".py",
   "mimetype": "text/x-python",
   "name": "python",
   "nbconvert_exporter": "python",
   "pygments_lexer": "ipython3",
   "version": "3.10.9"
  },
  "orig_nbformat": 4
 },
 "nbformat": 4,
 "nbformat_minor": 2
}

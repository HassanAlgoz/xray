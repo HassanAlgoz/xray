{
 "cells": [
  {
   "cell_type": "code",
   "execution_count": 1,
   "metadata": {},
   "outputs": [],
   "source": [
    "import os\n",
    "import csv\n",
    "\n",
    "import pandas as pd \n",
    "import numpy as np\n",
    "\n",
    "seed = 230\n",
    "\n",
    "data_dir = 'data'\n",
    "\n",
    "os.makedirs(os.path.join(data_dir, 'big', 'val'), exist_ok=True)\n",
    "os.makedirs(os.path.join(data_dir, 'big', 'test'), exist_ok=True)\n",
    "os.makedirs(os.path.join(data_dir, 'big', 'train'), exist_ok=True)\n",
    "\n",
    "os.makedirs(os.path.join(data_dir, 'small', 'val'), exist_ok=True)\n",
    "os.makedirs(os.path.join(data_dir, 'small', 'train'), exist_ok=True)\n",
    "\n",
    "# Read CSV into DataFrame\n",
    "df = pd.read_csv(os.path.join(data_dir, 'yelp_ratings.csv'))\n",
    "\n",
    "# Make sentiment the first column and remove the stars column\n",
    "df = df.reindex(columns=['sentiment', 'text'])\n",
    "\n",
    "# Shuffle\n",
    "df = df.sample(frac=1, random_state=seed)\n",
    "\n"
   ]
  },
  {
   "cell_type": "code",
   "execution_count": 4,
   "metadata": {},
   "outputs": [],
   "source": [
    "val_size = 0.2\n",
    "test_size = 0.2\n",
    "\n",
    "n = len(df)\n",
    "test_n = int(n * test_size)\n",
    "val_n = int(n * val_size)\n",
    "train_n = n - test_n - val_n\n",
    "\n",
    "test_data = df[:test_n]\n",
    "val_data = df[test_n:test_n + val_n]\n",
    "train_data = df[test_n + val_n:]\n",
    "\n",
    "# Write to CSV files   \n",
    "val_data.to_csv(os.path.join(data_dir, 'big', 'val', 'yelp_ratings.csv'), index=False, doublequote=True)\n",
    "test_data.to_csv(os.path.join(data_dir, 'big', 'test', 'yelp_ratings.csv'), index=False, doublequote=True)\n",
    "train_data.to_csv(os.path.join(data_dir, 'big', 'train', 'yelp_ratings.csv'), index=False, doublequote=True)"
   ]
  },
  {
   "cell_type": "code",
   "execution_count": 5,
   "metadata": {},
   "outputs": [],
   "source": [
    "# Small data\n",
    "small_size = 0.05\n",
    "small_val_data = pd.concat([\n",
    "    val_data.sample(frac=small_size, random_state=seed),\n",
    "    test_data.sample(frac=small_size, random_state=seed),\n",
    "])\n",
    "small_train_data = train_data.sample(frac=small_size, random_state=seed)\n",
    "\n",
    "# Write to CSV files   \n",
    "small_val_data.to_csv(os.path.join(data_dir, 'small', 'val', 'yelp_ratings.csv'), index=False, quoting=csv.QUOTE_NONNUMERIC)\n",
    "small_train_data.to_csv(os.path.join(data_dir, 'small', 'train', 'yelp_ratings.csv'), index=False, quoting=csv.QUOTE_NONNUMERIC)"
   ]
  }
 ],
 "metadata": {
  "kernelspec": {
   "display_name": "05-transformer-encoder",
   "language": "python",
   "name": "python3"
  },
  "language_info": {
   "codemirror_mode": {
    "name": "ipython",
    "version": 3
   },
   "file_extension": ".py",
   "mimetype": "text/x-python",
   "name": "python",
   "nbconvert_exporter": "python",
   "pygments_lexer": "ipython3",
   "version": "3.10.9"
  },
  "orig_nbformat": 4
 },
 "nbformat": 4,
 "nbformat_minor": 2
}
